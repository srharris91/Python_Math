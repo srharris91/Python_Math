{
 "cells": [
  {
   "cell_type": "code",
   "execution_count": 7,
   "metadata": {
    "collapsed": true
   },
   "outputs": [],
   "source": [
    "\"\"\"Module to solve a simple first order ODE\"\"\"\n",
    "%matplotlib inline\n",
    "import numpy as np\n",
    "import matplotlib.pyplot as plt"
   ]
  },
  {
   "cell_type": "code",
   "execution_count": 27,
   "metadata": {
    "collapsed": true
   },
   "outputs": [],
   "source": [
    "def f(x,y1,y2):\n",
    "    \"\"\"y'=f(x,y) ODE\"\"\"\n",
    "    return -(y1+y2)+np.sin(x)"
   ]
  },
  {
   "cell_type": "code",
   "execution_count": 56,
   "metadata": {
    "collapsed": false
   },
   "outputs": [],
   "source": [
    "def Euler(f,t,*y0):\n",
    "    ys=len(y0)\n",
    "    n=1000\n",
    "    y=np.zeros((n,len(y0)))\n",
    "    y[0]=y0\n",
    "    for dt in [t[1:]-t[0:-1]]:\n",
    "        y[i]=y[i-1]+(t[i-1]-t[i])*f(t[i-1],*y[i-1])\n",
    "    return y\n",
    "y=Euler(f,np.linspace(x0,xf,1000),0,1.) "
   ]
  },
  {
   "cell_type": "code",
   "execution_count": 28,
   "metadata": {
    "collapsed": true
   },
   "outputs": [],
   "source": []
  },
  {
   "cell_type": "code",
   "execution_count": 29,
   "metadata": {
    "collapsed": false
   },
   "outputs": [],
   "source": [
    "# solve y\n",
    "y1=np.zeros([n])\n",
    "y2=np.zeros([n])\n",
    "y1[0]=0.\n",
    "y2[0]=y0\n",
    "for i in range(1,n):\n",
    "    #print  i,y[i],y[i-1],deltax,f(x[i-1],y[i-1])\n",
    "    y2[i]=y2[i-1]+deltax*f(x[i-1],y1[i-1],y2[i-1])"
   ]
  },
  {
   "cell_type": "code",
   "execution_count": 62,
   "metadata": {
    "collapsed": false
   },
   "outputs": [
    {
     "data": {
      "image/png": "[encoded data removed]",
      "text/plain": [
       "<matplotlib.figure.Figure at 0x7f20c44bc810>"
      ]
     },
     "metadata": {},
     "output_type": "display_data"
    }
   ],
   "source": [
    "plt.plot(np.linspace(x0,xf,1000),y[:,0],'k-')\n",
    "plt.plot(np.linspace(x0,xf,1000),y[:,1],'g:')\n",
    "plt.xlabel(\"X\")\n",
    "plt.ylabel(\"Y\")\n",
    "plt.show()"
   ]
  },
  {
   "cell_type": "code",
   "execution_count": 26,
   "metadata": {
    "collapsed": false
   },
   "outputs": [
    {
     "ename": "SyntaxError",
     "evalue": "invalid syntax (<ipython-input-26-f1697347489c>, line 1)",
     "output_type": "error",
     "traceback": [
      "\u001b[0;36m  File \u001b[0;32m\"<ipython-input-26-f1697347489c>\"\u001b[0;36m, line \u001b[0;32m1\u001b[0m\n\u001b[0;31m    arg=[t:4,x:9]\u001b[0m\n\u001b[0m          ^\u001b[0m\n\u001b[0;31mSyntaxError\u001b[0m\u001b[0;31m:\u001b[0m invalid syntax\n"
     ]
    }
   ],
   "source": [
    "arg=[t:4,x:9]"
   ]
  },
  {
   "cell_type": "code",
   "execution_count": null,
   "metadata": {
    "collapsed": true
   },
   "outputs": [],
   "source": []
  }
 ],
 "metadata": {
  "kernelspec": {
   "display_name": "Python 2",
   "language": "python",
   "name": "python2"
  },
  "language_info": {
   "codemirror_mode": {
    "name": "ipython",
    "version": 2
   },
   "file_extension": ".py",
   "mimetype": "text/x-python",
   "name": "python",
   "nbconvert_exporter": "python",
   "pygments_lexer": "ipython2",
   "version": "2.7.6"
  }
 },
 "nbformat": 4,
 "nbformat_minor": 2
}
